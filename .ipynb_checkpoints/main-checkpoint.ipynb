{
 "cells": [
  {
   "cell_type": "markdown",
   "metadata": {},
   "source": [
    "# Data Analytics ECS784P\n",
    "## London House Price Data Analysis and Prediction\n",
    "### Machine Learning of London house price data based on features in yearly data ranging 1995-2018:\n",
    "- House Price\n",
    "- House Sales Volume\n",
    "- House Price Index\n",
    "- Bank Rate (England)\n",
    "- GDP (UK)\n",
    "- GDP Growth (UK)\n",
    "- Total number household\n",
    "- Affordability (House price to residence-based earnings ratio)\n",
    "- Median Income\n",
    "\n",
    "We are using LinearRegression and GradientBoostingRegressionTree as our methods witht the implementation of ShuffleSPlit cross-validation along with GridSearchCV for parameters tuning."
   ]
  },
  {
   "cell_type": "markdown",
   "metadata": {},
   "source": [
    "### Load the data"
   ]
  },
  {
   "cell_type": "markdown",
   "metadata": {},
   "source": [
    "JS code to prevent sub/scrollable window inside the notebook"
   ]
  },
  {
   "cell_type": "code",
   "execution_count": 1,
   "metadata": {},
   "outputs": [
    {
     "data": {
      "application/javascript": [
       "IPython.OutputArea.prototype._should_scroll = function(lines) {\n",
       "    return false;\n",
       "}\n"
      ],
      "text/plain": [
       "<IPython.core.display.Javascript object>"
      ]
     },
     "metadata": {},
     "output_type": "display_data"
    }
   ],
   "source": [
    "%%javascript\n",
    "IPython.OutputArea.prototype._should_scroll = function(lines) {\n",
    "    return false;\n",
    "}"
   ]
  },
  {
   "cell_type": "markdown",
   "metadata": {},
   "source": [
    "Import external libraries"
   ]
  },
  {
   "cell_type": "code",
   "execution_count": 2,
   "metadata": {},
   "outputs": [],
   "source": [
    "import numpy as np\n",
    "import pandas as pd\n",
    "import matplotlib.pyplot as plt\n",
    "import seaborn as sns\n",
    "import mpl_toolkits\n",
    "from sklearn import preprocessing, model_selection, metrics, svm, ensemble\n",
    "from sklearn.linear_model import LinearRegression\n",
    "from sklearn.model_selection import ShuffleSplit, train_test_split, GridSearchCV, learning_curve\n",
    "from sklearn.ensemble import GradientBoostingRegressor\n",
    "from sklearn.naive_bayes import GaussianNB\n",
    "from sklearn.decomposition import PCA\n",
    "from IPython.display import HTML\n",
    "from scipy import sparse\n",
    "from pprint import pprint\n",
    "\n",
    "%matplotlib inline"
   ]
  },
  {
   "cell_type": "markdown",
   "metadata": {},
   "source": [
    "HTML and JS code to implement toggle to hide or show warning messages that might come up in notebook"
   ]
  },
  {
   "cell_type": "code",
   "execution_count": 3,
   "metadata": {},
   "outputs": [
    {
     "data": {
      "text/html": [
       "<script>\n",
       "code_show_err=false; \n",
       "function code_toggle_err() {\n",
       " if (code_show_err){\n",
       " $('div.output_stderr').hide();\n",
       " } else {\n",
       " $('div.output_stderr').show();\n",
       " }\n",
       " code_show_err = !code_show_err\n",
       "} \n",
       "$( document ).ready(code_toggle_err);\n",
       "</script>\n",
       "To toggle on/off Warning Message, click <a href=\"javascript:code_toggle_err()\">here</a>."
      ],
      "text/plain": [
       "<IPython.core.display.HTML object>"
      ]
     },
     "execution_count": 3,
     "metadata": {},
     "output_type": "execute_result"
    }
   ],
   "source": [
    "HTML('''<script>\n",
    "code_show_err=false; \n",
    "function code_toggle_err() {\n",
    " if (code_show_err){\n",
    " $('div.output_stderr').hide();\n",
    " } else {\n",
    " $('div.output_stderr').show();\n",
    " }\n",
    " code_show_err = !code_show_err\n",
    "} \n",
    "$( document ).ready(code_toggle_err);\n",
    "</script>\n",
    "To toggle on/off Warning Message, click <a href=\"javascript:code_toggle_err()\">here</a>.''')"
   ]
  },
  {
   "cell_type": "code",
   "execution_count": 4,
   "metadata": {},
   "outputs": [],
   "source": [
    "# get the data from csv and set it to variable 'data'\n",
    "data = pd.read_csv('data_year_preprocessed.csv')\n",
    "data = data.set_index('year')"
   ]
  },
  {
   "cell_type": "code",
   "execution_count": 5,
   "metadata": {
    "scrolled": true
   },
   "outputs": [
    {
     "data": {
      "text/html": [
       "<div>\n",
       "<style scoped>\n",
       "    .dataframe tbody tr th:only-of-type {\n",
       "        vertical-align: middle;\n",
       "    }\n",
       "\n",
       "    .dataframe tbody tr th {\n",
       "        vertical-align: top;\n",
       "    }\n",
       "\n",
       "    .dataframe thead th {\n",
       "        text-align: right;\n",
       "    }\n",
       "</style>\n",
       "<table border=\"1\" class=\"dataframe\">\n",
       "  <thead>\n",
       "    <tr style=\"text-align: right;\">\n",
       "      <th></th>\n",
       "      <th>price</th>\n",
       "      <th>salesVolume</th>\n",
       "      <th>indexPrice</th>\n",
       "      <th>rate</th>\n",
       "      <th>gdp</th>\n",
       "      <th>gdpGrowth</th>\n",
       "      <th>numberHousehold</th>\n",
       "      <th>affordability</th>\n",
       "      <th>medianincome</th>\n",
       "    </tr>\n",
       "    <tr>\n",
       "      <th>year</th>\n",
       "      <th></th>\n",
       "      <th></th>\n",
       "      <th></th>\n",
       "      <th></th>\n",
       "      <th></th>\n",
       "      <th></th>\n",
       "      <th></th>\n",
       "      <th></th>\n",
       "      <th></th>\n",
       "    </tr>\n",
       "  </thead>\n",
       "  <tbody>\n",
       "    <tr>\n",
       "      <th>1995</th>\n",
       "      <td>74721.32688</td>\n",
       "      <td>106850.0</td>\n",
       "      <td>18.548293</td>\n",
       "      <td>6.3750</td>\n",
       "      <td>1336125</td>\n",
       "      <td>0.025</td>\n",
       "      <td>2869079.452</td>\n",
       "      <td>NaN</td>\n",
       "      <td>15247.90251</td>\n",
       "    </tr>\n",
       "    <tr>\n",
       "      <th>1996</th>\n",
       "      <td>78166.22435</td>\n",
       "      <td>132953.0</td>\n",
       "      <td>19.403430</td>\n",
       "      <td>5.9375</td>\n",
       "      <td>1410855</td>\n",
       "      <td>0.025</td>\n",
       "      <td>2887000.000</td>\n",
       "      <td>NaN</td>\n",
       "      <td>15709.96016</td>\n",
       "    </tr>\n",
       "    <tr>\n",
       "      <th>1997</th>\n",
       "      <td>89943.92010</td>\n",
       "      <td>154343.0</td>\n",
       "      <td>22.327042</td>\n",
       "      <td>7.2500</td>\n",
       "      <td>1553949</td>\n",
       "      <td>0.043</td>\n",
       "      <td>2855900.000</td>\n",
       "      <td>NaN</td>\n",
       "      <td>16114.26061</td>\n",
       "    </tr>\n",
       "    <tr>\n",
       "      <th>1998</th>\n",
       "      <td>102110.61160</td>\n",
       "      <td>145942.0</td>\n",
       "      <td>25.347216</td>\n",
       "      <td>6.2500</td>\n",
       "      <td>1641822</td>\n",
       "      <td>0.033</td>\n",
       "      <td>2872500.000</td>\n",
       "      <td>NaN</td>\n",
       "      <td>16114.26061</td>\n",
       "    </tr>\n",
       "    <tr>\n",
       "      <th>1999</th>\n",
       "      <td>115686.25990</td>\n",
       "      <td>169076.0</td>\n",
       "      <td>28.717139</td>\n",
       "      <td>5.5000</td>\n",
       "      <td>1668683</td>\n",
       "      <td>0.032</td>\n",
       "      <td>2901200.000</td>\n",
       "      <td>NaN</td>\n",
       "      <td>16114.26061</td>\n",
       "    </tr>\n",
       "    <tr>\n",
       "      <th>2000</th>\n",
       "      <td>142006.69330</td>\n",
       "      <td>149269.0</td>\n",
       "      <td>35.250737</td>\n",
       "      <td>6.0000</td>\n",
       "      <td>1651392</td>\n",
       "      <td>0.035</td>\n",
       "      <td>2923900.000</td>\n",
       "      <td>NaN</td>\n",
       "      <td>16600.00000</td>\n",
       "    </tr>\n",
       "    <tr>\n",
       "      <th>2001</th>\n",
       "      <td>159225.79230</td>\n",
       "      <td>162744.0</td>\n",
       "      <td>39.525084</td>\n",
       "      <td>4.0000</td>\n",
       "      <td>1626218</td>\n",
       "      <td>0.028</td>\n",
       "      <td>2963800.000</td>\n",
       "      <td>NaN</td>\n",
       "      <td>17600.00000</td>\n",
       "    </tr>\n",
       "    <tr>\n",
       "      <th>2002</th>\n",
       "      <td>187395.75390</td>\n",
       "      <td>173993.0</td>\n",
       "      <td>46.517796</td>\n",
       "      <td>4.0000</td>\n",
       "      <td>1775814</td>\n",
       "      <td>0.025</td>\n",
       "      <td>2971400.000</td>\n",
       "      <td>6.90</td>\n",
       "      <td>18500.00000</td>\n",
       "    </tr>\n",
       "    <tr>\n",
       "      <th>2003</th>\n",
       "      <td>211100.92160</td>\n",
       "      <td>153784.0</td>\n",
       "      <td>52.402199</td>\n",
       "      <td>3.7500</td>\n",
       "      <td>2045693</td>\n",
       "      <td>0.033</td>\n",
       "      <td>2979500.000</td>\n",
       "      <td>7.44</td>\n",
       "      <td>18800.00000</td>\n",
       "    </tr>\n",
       "    <tr>\n",
       "      <th>2004</th>\n",
       "      <td>228614.03650</td>\n",
       "      <td>163797.0</td>\n",
       "      <td>56.749531</td>\n",
       "      <td>4.7500</td>\n",
       "      <td>2404700</td>\n",
       "      <td>0.023</td>\n",
       "      <td>2963300.000</td>\n",
       "      <td>7.95</td>\n",
       "      <td>19100.00000</td>\n",
       "    </tr>\n",
       "    <tr>\n",
       "      <th>2005</th>\n",
       "      <td>235329.26910</td>\n",
       "      <td>136836.0</td>\n",
       "      <td>58.416472</td>\n",
       "      <td>4.5000</td>\n",
       "      <td>2527843</td>\n",
       "      <td>0.031</td>\n",
       "      <td>2999900.000</td>\n",
       "      <td>8.09</td>\n",
       "      <td>19000.00000</td>\n",
       "    </tr>\n",
       "    <tr>\n",
       "      <th>2006</th>\n",
       "      <td>251281.17760</td>\n",
       "      <td>171450.0</td>\n",
       "      <td>62.376261</td>\n",
       "      <td>5.0000</td>\n",
       "      <td>2700951</td>\n",
       "      <td>0.025</td>\n",
       "      <td>3000900.000</td>\n",
       "      <td>8.37</td>\n",
       "      <td>20300.00000</td>\n",
       "    </tr>\n",
       "    <tr>\n",
       "      <th>2007</th>\n",
       "      <td>287114.01550</td>\n",
       "      <td>165571.0</td>\n",
       "      <td>71.271151</td>\n",
       "      <td>5.5000</td>\n",
       "      <td>3085300</td>\n",
       "      <td>0.025</td>\n",
       "      <td>3004200.000</td>\n",
       "      <td>8.38</td>\n",
       "      <td>20800.00000</td>\n",
       "    </tr>\n",
       "    <tr>\n",
       "      <th>2008</th>\n",
       "      <td>282959.01210</td>\n",
       "      <td>80921.0</td>\n",
       "      <td>70.239743</td>\n",
       "      <td>2.0000</td>\n",
       "      <td>2934747</td>\n",
       "      <td>-0.003</td>\n",
       "      <td>3062600.000</td>\n",
       "      <td>8.52</td>\n",
       "      <td>21800.00000</td>\n",
       "    </tr>\n",
       "    <tr>\n",
       "      <th>2009</th>\n",
       "      <td>257853.75650</td>\n",
       "      <td>75231.0</td>\n",
       "      <td>64.007792</td>\n",
       "      <td>0.5000</td>\n",
       "      <td>2403357</td>\n",
       "      <td>-0.042</td>\n",
       "      <td>3085300.000</td>\n",
       "      <td>7.83</td>\n",
       "      <td>21178.67066</td>\n",
       "    </tr>\n",
       "    <tr>\n",
       "      <th>2010</th>\n",
       "      <td>284543.12810</td>\n",
       "      <td>91933.0</td>\n",
       "      <td>70.632972</td>\n",
       "      <td>0.5000</td>\n",
       "      <td>2455309</td>\n",
       "      <td>0.017</td>\n",
       "      <td>3090300.000</td>\n",
       "      <td>8.75</td>\n",
       "      <td>23400.00000</td>\n",
       "    </tr>\n",
       "    <tr>\n",
       "      <th>2011</th>\n",
       "      <td>290551.08050</td>\n",
       "      <td>90041.0</td>\n",
       "      <td>72.124344</td>\n",
       "      <td>0.5000</td>\n",
       "      <td>2635799</td>\n",
       "      <td>0.016</td>\n",
       "      <td>3180600.000</td>\n",
       "      <td>9.18</td>\n",
       "      <td>23300.00000</td>\n",
       "    </tr>\n",
       "    <tr>\n",
       "      <th>2012</th>\n",
       "      <td>303927.32910</td>\n",
       "      <td>93988.0</td>\n",
       "      <td>75.444769</td>\n",
       "      <td>0.5000</td>\n",
       "      <td>2677082</td>\n",
       "      <td>0.014</td>\n",
       "      <td>3188600.000</td>\n",
       "      <td>9.15</td>\n",
       "      <td>23800.00000</td>\n",
       "    </tr>\n",
       "    <tr>\n",
       "      <th>2013</th>\n",
       "      <td>329167.88190</td>\n",
       "      <td>115459.0</td>\n",
       "      <td>81.710306</td>\n",
       "      <td>0.5000</td>\n",
       "      <td>2755356</td>\n",
       "      <td>0.020</td>\n",
       "      <td>3210300.000</td>\n",
       "      <td>9.62</td>\n",
       "      <td>24600.00000</td>\n",
       "    </tr>\n",
       "    <tr>\n",
       "      <th>2014</th>\n",
       "      <td>386124.33550</td>\n",
       "      <td>126356.0</td>\n",
       "      <td>95.848773</td>\n",
       "      <td>0.5000</td>\n",
       "      <td>3036310</td>\n",
       "      <td>0.029</td>\n",
       "      <td>3225000.000</td>\n",
       "      <td>10.77</td>\n",
       "      <td>25600.00000</td>\n",
       "    </tr>\n",
       "    <tr>\n",
       "      <th>2015</th>\n",
       "      <td>425134.16170</td>\n",
       "      <td>120358.0</td>\n",
       "      <td>105.532298</td>\n",
       "      <td>0.5000</td>\n",
       "      <td>2897060</td>\n",
       "      <td>0.023</td>\n",
       "      <td>3253000.000</td>\n",
       "      <td>11.78</td>\n",
       "      <td>26400.00000</td>\n",
       "    </tr>\n",
       "    <tr>\n",
       "      <th>2016</th>\n",
       "      <td>467502.88020</td>\n",
       "      <td>104805.0</td>\n",
       "      <td>116.049616</td>\n",
       "      <td>0.2500</td>\n",
       "      <td>2660687</td>\n",
       "      <td>0.018</td>\n",
       "      <td>3276400.000</td>\n",
       "      <td>12.91</td>\n",
       "      <td>27200.00000</td>\n",
       "    </tr>\n",
       "    <tr>\n",
       "      <th>2017</th>\n",
       "      <td>480240.15790</td>\n",
       "      <td>96023.0</td>\n",
       "      <td>119.211428</td>\n",
       "      <td>0.5000</td>\n",
       "      <td>2622434</td>\n",
       "      <td>0.018</td>\n",
       "      <td>3285400.000</td>\n",
       "      <td>13.24</td>\n",
       "      <td>27900.00000</td>\n",
       "    </tr>\n",
       "    <tr>\n",
       "      <th>2018</th>\n",
       "      <td>478444.51250</td>\n",
       "      <td>NaN</td>\n",
       "      <td>118.765689</td>\n",
       "      <td>0.7500</td>\n",
       "      <td>2822817</td>\n",
       "      <td>0.014</td>\n",
       "      <td>3305793.546</td>\n",
       "      <td>NaN</td>\n",
       "      <td>28716.39332</td>\n",
       "    </tr>\n",
       "  </tbody>\n",
       "</table>\n",
       "</div>"
      ],
      "text/plain": [
       "             price  salesVolume  indexPrice    rate      gdp  gdpGrowth  \\\n",
       "year                                                                      \n",
       "1995   74721.32688     106850.0   18.548293  6.3750  1336125      0.025   \n",
       "1996   78166.22435     132953.0   19.403430  5.9375  1410855      0.025   \n",
       "1997   89943.92010     154343.0   22.327042  7.2500  1553949      0.043   \n",
       "1998  102110.61160     145942.0   25.347216  6.2500  1641822      0.033   \n",
       "1999  115686.25990     169076.0   28.717139  5.5000  1668683      0.032   \n",
       "2000  142006.69330     149269.0   35.250737  6.0000  1651392      0.035   \n",
       "2001  159225.79230     162744.0   39.525084  4.0000  1626218      0.028   \n",
       "2002  187395.75390     173993.0   46.517796  4.0000  1775814      0.025   \n",
       "2003  211100.92160     153784.0   52.402199  3.7500  2045693      0.033   \n",
       "2004  228614.03650     163797.0   56.749531  4.7500  2404700      0.023   \n",
       "2005  235329.26910     136836.0   58.416472  4.5000  2527843      0.031   \n",
       "2006  251281.17760     171450.0   62.376261  5.0000  2700951      0.025   \n",
       "2007  287114.01550     165571.0   71.271151  5.5000  3085300      0.025   \n",
       "2008  282959.01210      80921.0   70.239743  2.0000  2934747     -0.003   \n",
       "2009  257853.75650      75231.0   64.007792  0.5000  2403357     -0.042   \n",
       "2010  284543.12810      91933.0   70.632972  0.5000  2455309      0.017   \n",
       "2011  290551.08050      90041.0   72.124344  0.5000  2635799      0.016   \n",
       "2012  303927.32910      93988.0   75.444769  0.5000  2677082      0.014   \n",
       "2013  329167.88190     115459.0   81.710306  0.5000  2755356      0.020   \n",
       "2014  386124.33550     126356.0   95.848773  0.5000  3036310      0.029   \n",
       "2015  425134.16170     120358.0  105.532298  0.5000  2897060      0.023   \n",
       "2016  467502.88020     104805.0  116.049616  0.2500  2660687      0.018   \n",
       "2017  480240.15790      96023.0  119.211428  0.5000  2622434      0.018   \n",
       "2018  478444.51250          NaN  118.765689  0.7500  2822817      0.014   \n",
       "\n",
       "      numberHousehold  affordability  medianincome  \n",
       "year                                                \n",
       "1995      2869079.452            NaN   15247.90251  \n",
       "1996      2887000.000            NaN   15709.96016  \n",
       "1997      2855900.000            NaN   16114.26061  \n",
       "1998      2872500.000            NaN   16114.26061  \n",
       "1999      2901200.000            NaN   16114.26061  \n",
       "2000      2923900.000            NaN   16600.00000  \n",
       "2001      2963800.000            NaN   17600.00000  \n",
       "2002      2971400.000           6.90   18500.00000  \n",
       "2003      2979500.000           7.44   18800.00000  \n",
       "2004      2963300.000           7.95   19100.00000  \n",
       "2005      2999900.000           8.09   19000.00000  \n",
       "2006      3000900.000           8.37   20300.00000  \n",
       "2007      3004200.000           8.38   20800.00000  \n",
       "2008      3062600.000           8.52   21800.00000  \n",
       "2009      3085300.000           7.83   21178.67066  \n",
       "2010      3090300.000           8.75   23400.00000  \n",
       "2011      3180600.000           9.18   23300.00000  \n",
       "2012      3188600.000           9.15   23800.00000  \n",
       "2013      3210300.000           9.62   24600.00000  \n",
       "2014      3225000.000          10.77   25600.00000  \n",
       "2015      3253000.000          11.78   26400.00000  \n",
       "2016      3276400.000          12.91   27200.00000  \n",
       "2017      3285400.000          13.24   27900.00000  \n",
       "2018      3305793.546            NaN   28716.39332  "
      ]
     },
     "execution_count": 5,
     "metadata": {},
     "output_type": "execute_result"
    }
   ],
   "source": [
    "# peek the data\n",
    "data"
   ]
  },
  {
   "cell_type": "code",
   "execution_count": 6,
   "metadata": {},
   "outputs": [
    {
     "data": {
      "text/html": [
       "<div>\n",
       "<style scoped>\n",
       "    .dataframe tbody tr th:only-of-type {\n",
       "        vertical-align: middle;\n",
       "    }\n",
       "\n",
       "    .dataframe tbody tr th {\n",
       "        vertical-align: top;\n",
       "    }\n",
       "\n",
       "    .dataframe thead th {\n",
       "        text-align: right;\n",
       "    }\n",
       "</style>\n",
       "<table border=\"1\" class=\"dataframe\">\n",
       "  <thead>\n",
       "    <tr style=\"text-align: right;\">\n",
       "      <th></th>\n",
       "      <th>price</th>\n",
       "      <th>salesVolume</th>\n",
       "      <th>indexPrice</th>\n",
       "      <th>rate</th>\n",
       "      <th>gdp</th>\n",
       "      <th>gdpGrowth</th>\n",
       "      <th>numberHousehold</th>\n",
       "      <th>affordability</th>\n",
       "      <th>medianincome</th>\n",
       "    </tr>\n",
       "  </thead>\n",
       "  <tbody>\n",
       "    <tr>\n",
       "      <th>count</th>\n",
       "      <td>24.000000</td>\n",
       "      <td>23.000000</td>\n",
       "      <td>24.000000</td>\n",
       "      <td>24.000000</td>\n",
       "      <td>2.400000e+01</td>\n",
       "      <td>24.000000</td>\n",
       "      <td>2.400000e+01</td>\n",
       "      <td>16.000000</td>\n",
       "      <td>24.000000</td>\n",
       "    </tr>\n",
       "    <tr>\n",
       "      <th>mean</th>\n",
       "      <td>256214.343276</td>\n",
       "      <td>129640.130435</td>\n",
       "      <td>63.600837</td>\n",
       "      <td>3.158854</td>\n",
       "      <td>2.305429e+06</td>\n",
       "      <td>0.021125</td>\n",
       "      <td>3.056495e+06</td>\n",
       "      <td>9.305000</td>\n",
       "      <td>20995.654520</td>\n",
       "    </tr>\n",
       "    <tr>\n",
       "      <th>std</th>\n",
       "      <td>126337.486812</td>\n",
       "      <td>32256.222907</td>\n",
       "      <td>31.361126</td>\n",
       "      <td>2.511183</td>\n",
       "      <td>5.698118e+05</td>\n",
       "      <td>0.016276</td>\n",
       "      <td>1.485513e+05</td>\n",
       "      <td>1.902546</td>\n",
       "      <td>4228.612122</td>\n",
       "    </tr>\n",
       "    <tr>\n",
       "      <th>min</th>\n",
       "      <td>74721.326880</td>\n",
       "      <td>75231.000000</td>\n",
       "      <td>18.548293</td>\n",
       "      <td>0.250000</td>\n",
       "      <td>1.336125e+06</td>\n",
       "      <td>-0.042000</td>\n",
       "      <td>2.855900e+06</td>\n",
       "      <td>6.900000</td>\n",
       "      <td>15247.902510</td>\n",
       "    </tr>\n",
       "    <tr>\n",
       "      <th>25%</th>\n",
       "      <td>154921.017550</td>\n",
       "      <td>100414.000000</td>\n",
       "      <td>38.456497</td>\n",
       "      <td>0.500000</td>\n",
       "      <td>1.664360e+06</td>\n",
       "      <td>0.017750</td>\n",
       "      <td>2.953450e+06</td>\n",
       "      <td>8.055000</td>\n",
       "      <td>17350.000000</td>\n",
       "    </tr>\n",
       "    <tr>\n",
       "      <th>50%</th>\n",
       "      <td>254567.467050</td>\n",
       "      <td>132953.000000</td>\n",
       "      <td>63.192027</td>\n",
       "      <td>3.875000</td>\n",
       "      <td>2.491576e+06</td>\n",
       "      <td>0.025000</td>\n",
       "      <td>3.002550e+06</td>\n",
       "      <td>8.635000</td>\n",
       "      <td>20550.000000</td>\n",
       "    </tr>\n",
       "    <tr>\n",
       "      <th>75%</th>\n",
       "      <td>310237.467300</td>\n",
       "      <td>158543.500000</td>\n",
       "      <td>77.011153</td>\n",
       "      <td>5.500000</td>\n",
       "      <td>2.714552e+06</td>\n",
       "      <td>0.029500</td>\n",
       "      <td>3.194025e+06</td>\n",
       "      <td>9.907500</td>\n",
       "      <td>24000.000000</td>\n",
       "    </tr>\n",
       "    <tr>\n",
       "      <th>max</th>\n",
       "      <td>480240.157900</td>\n",
       "      <td>173993.000000</td>\n",
       "      <td>119.211428</td>\n",
       "      <td>7.250000</td>\n",
       "      <td>3.085300e+06</td>\n",
       "      <td>0.043000</td>\n",
       "      <td>3.305794e+06</td>\n",
       "      <td>13.240000</td>\n",
       "      <td>28716.393320</td>\n",
       "    </tr>\n",
       "  </tbody>\n",
       "</table>\n",
       "</div>"
      ],
      "text/plain": [
       "               price    salesVolume  indexPrice       rate           gdp  \\\n",
       "count      24.000000      23.000000   24.000000  24.000000  2.400000e+01   \n",
       "mean   256214.343276  129640.130435   63.600837   3.158854  2.305429e+06   \n",
       "std    126337.486812   32256.222907   31.361126   2.511183  5.698118e+05   \n",
       "min     74721.326880   75231.000000   18.548293   0.250000  1.336125e+06   \n",
       "25%    154921.017550  100414.000000   38.456497   0.500000  1.664360e+06   \n",
       "50%    254567.467050  132953.000000   63.192027   3.875000  2.491576e+06   \n",
       "75%    310237.467300  158543.500000   77.011153   5.500000  2.714552e+06   \n",
       "max    480240.157900  173993.000000  119.211428   7.250000  3.085300e+06   \n",
       "\n",
       "       gdpGrowth  numberHousehold  affordability  medianincome  \n",
       "count  24.000000     2.400000e+01      16.000000     24.000000  \n",
       "mean    0.021125     3.056495e+06       9.305000  20995.654520  \n",
       "std     0.016276     1.485513e+05       1.902546   4228.612122  \n",
       "min    -0.042000     2.855900e+06       6.900000  15247.902510  \n",
       "25%     0.017750     2.953450e+06       8.055000  17350.000000  \n",
       "50%     0.025000     3.002550e+06       8.635000  20550.000000  \n",
       "75%     0.029500     3.194025e+06       9.907500  24000.000000  \n",
       "max     0.043000     3.305794e+06      13.240000  28716.393320  "
      ]
     },
     "execution_count": 6,
     "metadata": {},
     "output_type": "execute_result"
    }
   ],
   "source": [
    "# brief statistical description of each column\n",
    "data.describe()"
   ]
  },
  {
   "cell_type": "code",
   "execution_count": 7,
   "metadata": {
    "scrolled": false
   },
   "outputs": [
    {
     "data": {
      "text/plain": [
       "price              0\n",
       "salesVolume        1\n",
       "indexPrice         0\n",
       "rate               0\n",
       "gdp                0\n",
       "gdpGrowth          0\n",
       "numberHousehold    0\n",
       "affordability      8\n",
       "medianincome       0\n",
       "dtype: int64"
      ]
     },
     "execution_count": 7,
     "metadata": {},
     "output_type": "execute_result"
    }
   ],
   "source": [
    "# checking which of the columns have missing values which indicated by any number > 0\n",
    "data.isnull().sum()"
   ]
  },
  {
   "cell_type": "markdown",
   "metadata": {},
   "source": [
    "## Data Cleaning\n",
    "\n",
    "- Fill salesVolume missing values based on a randomized values calculated from its mean and standard deviation\n",
    "\n",
    "The inputed values will be based in the range of (mean - std) to (mean +std)"
   ]
  },
  {
   "cell_type": "code",
   "execution_count": 8,
   "metadata": {
    "scrolled": true
   },
   "outputs": [
    {
     "name": "stderr",
     "output_type": "stream",
     "text": [
      "C:\\ProgramData\\Anaconda3\\lib\\site-packages\\ipykernel_launcher.py:5: SettingWithCopyWarning: \n",
      "A value is trying to be set on a copy of a slice from a DataFrame\n",
      "\n",
      "See the caveats in the documentation: http://pandas.pydata.org/pandas-docs/stable/indexing.html#indexing-view-versus-copy\n",
      "  \"\"\"\n"
     ]
    }
   ],
   "source": [
    "salesVolume_avg = data['salesVolume'].mean()\n",
    "salesVolume_std = data['salesVolume'].std()\n",
    "salesVolume_null_count = data['salesVolume'].isnull().sum()\n",
    "salesVolume_null_random_list = np.random.randint(salesVolume_avg - salesVolume_std, salesVolume_avg + salesVolume_std, size=salesVolume_null_count)\n",
    "data['salesVolume'][np.isnan(data['salesVolume'])] = salesVolume_null_random_list\n",
    "data['salesVolume'] = data['salesVolume'].astype(int)"
   ]
  },
  {
   "cell_type": "markdown",
   "metadata": {},
   "source": [
    "- Fill affordability missing values based on a randomized values calculated from its minimum value and standard deviation\n",
    "\n",
    "The reason being is that the affordability is keep growing year by year, so we assume that the missing values which in this case is mostly the data before 2002 will be inputed by randomizing values between the range of (min - std) to (min)\n",
    "For the value of 2018, We used the 2017 value using the fillna function that pandas library provided using the parameter of method='ffill'"
   ]
  },
  {
   "cell_type": "code",
   "execution_count": 9,
   "metadata": {},
   "outputs": [
    {
     "name": "stderr",
     "output_type": "stream",
     "text": [
      "C:\\ProgramData\\Anaconda3\\lib\\site-packages\\ipykernel_launcher.py:7: SettingWithCopyWarning: \n",
      "A value is trying to be set on a copy of a slice from a DataFrame\n",
      "\n",
      "See the caveats in the documentation: http://pandas.pydata.org/pandas-docs/stable/indexing.html#indexing-view-versus-copy\n",
      "  import sys\n"
     ]
    }
   ],
   "source": [
    "data['affordability'].fillna(method='ffill',inplace=True)\n",
    "affordability_avg = data['affordability'].mean()\n",
    "affordability_std = data['affordability'].std()\n",
    "affordability_min = data['affordability'].min()\n",
    "affordability_null_count = data['affordability'].isnull().sum()\n",
    "affordability_null_random_list = np.random.randint(affordability_min - affordability_std, affordability_min, size=affordability_null_count)\n",
    "data['affordability'][np.isnan(data['affordability'])] = affordability_null_random_list\n",
    "data['affordability'] = data['affordability'].astype(int)"
   ]
  },
  {
   "cell_type": "code",
   "execution_count": 10,
   "metadata": {},
   "outputs": [
    {
     "data": {
      "text/plain": [
       "price              0\n",
       "salesVolume        0\n",
       "indexPrice         0\n",
       "rate               0\n",
       "gdp                0\n",
       "gdpGrowth          0\n",
       "numberHousehold    0\n",
       "affordability      0\n",
       "medianincome       0\n",
       "dtype: int64"
      ]
     },
     "execution_count": 10,
     "metadata": {},
     "output_type": "execute_result"
    }
   ],
   "source": [
    "# Double checking which of the columns have missing values which indicated by any number > 0\n",
    "data.isnull().sum()"
   ]
  },
  {
   "cell_type": "markdown",
   "metadata": {},
   "source": [
    "### Data Visualisation\n",
    "- Plot data to visualize the values of house price, sales volume, gdp, and number household each year.\n",
    "- Visualize a correlation matrix between each feature to get a better understanding of feature importance"
   ]
  },
  {
   "cell_type": "code",
   "execution_count": 11,
   "metadata": {
    "scrolled": true
   },
   "outputs": [
    {
     "data": {
      "image/png": "[encoded data removed]",
      "text/plain": [
       "<Figure size 720x360 with 1 Axes>"
      ]
     },
     "metadata": {
      "needs_background": "light"
     },
     "output_type": "display_data"
    }
   ],
   "source": [
    "# plot data\n",
    "fig, ax = plt.subplots(figsize=(10, 5))\n",
    "ax.scatter(data.price,data.index, color=\"b\", label=\"House Price\")\n",
    "ax.set_xlabel(\"Value\")\n",
    "ax.set_ylabel(\"Year\")\n",
    "plt.show()"
   ]
  },
  {
   "cell_type": "code",
   "execution_count": 12,
   "metadata": {},
   "outputs": [
    {
     "data": {
      "image/png": "[encoded data removed]",
      "text/plain": [
       "<Figure size 720x360 with 1 Axes>"
      ]
     },
     "metadata": {
      "needs_background": "light"
     },
     "output_type": "display_data"
    }
   ],
   "source": [
    "fig, ax = plt.subplots(figsize=(10, 5))\n",
    "ax.plot(data.price,data.index, color=\"r\", label=\"salesVolume\")\n",
    "ax.set_xlabel(\"Value\")\n",
    "ax.set_ylabel(\"Year\")\n",
    "plt.show()"
   ]
  },
  {
   "cell_type": "code",
   "execution_count": 13,
   "metadata": {},
   "outputs": [
    {
     "data": {
      "image/png": "[encoded data removed]",
      "text/plain": [
       "<Figure size 720x360 with 1 Axes>"
      ]
     },
     "metadata": {
      "needs_background": "light"
     },
     "output_type": "display_data"
    }
   ],
   "source": [
    "fig, ax = plt.subplots(figsize=(10, 5))\n",
    "ax.plot(data.price,data.index, color=\"orange\", label=\"GDP\")\n",
    "ax.set_xlabel(\"Value\")\n",
    "ax.set_ylabel(\"Year\")\n",
    "plt.show()"
   ]
  },
  {
   "cell_type": "code",
   "execution_count": 14,
   "metadata": {},
   "outputs": [
    {
     "data": {
      "image/png": "[encoded data removed]",
      "text/plain": [
       "<Figure size 720x360 with 1 Axes>"
      ]
     },
     "metadata": {
      "needs_background": "light"
     },
     "output_type": "display_data"
    }
   ],
   "source": [
    "fig, ax = plt.subplots(figsize=(10, 5))\n",
    "ax.plot(data.price,data.index, color=\"purple\", label=\"numberHousehold\")\n",
    "ax.set_xlabel(\"Value\")\n",
    "ax.set_ylabel(\"Year\")\n",
    "plt.show()"
   ]
  },
  {
   "cell_type": "code",
   "execution_count": 15,
   "metadata": {
    "scrolled": false
   },
   "outputs": [
    {
     "data": {
      "text/plain": [
       "<matplotlib.axes._subplots.AxesSubplot at 0x236d19ab630>"
      ]
     },
     "execution_count": 15,
     "metadata": {},
     "output_type": "execute_result"
    },
    {
     "data": {
      "image/png": "[encoded data removed]",
      "text/plain": [
       "<Figure size 720x360 with 2 Axes>"
      ]
     },
     "metadata": {
      "needs_background": "light"
     },
     "output_type": "display_data"
    }
   ],
   "source": [
    "# Build the correlation matrix\n",
    "matrix = data.corr()\n",
    "f, ax = plt.subplots(figsize=(10, 5))\n",
    "sns.heatmap(matrix, vmax=0.7, square=True)"
   ]
  },
  {
   "cell_type": "markdown",
   "metadata": {},
   "source": [
    "#### Data Preparation/Allocation\n",
    "- Preparing Data by separating them into training and target (test) tables"
   ]
  },
  {
   "cell_type": "code",
   "execution_count": 16,
   "metadata": {},
   "outputs": [],
   "source": [
    "# allocate all columns beside price as the training table 'train1' which will be the train\n",
    "train1 = data.drop(['price'],axis=1)"
   ]
  },
  {
   "cell_type": "code",
   "execution_count": 17,
   "metadata": {},
   "outputs": [],
   "source": [
    "# allocate price column as target table which will be the test\n",
    "target = data['price']"
   ]
  },
  {
   "cell_type": "markdown",
   "metadata": {},
   "source": [
    "## Methodology\n",
    "- Gradient Boosted Regression Trees\n",
    "\n",
    "Gradient Boosted Regression Trees (GBRT) or shorter Gradient Boosting is a flexible non-parametric statistical learning technique for classification and regression.\n",
    "- Linear Regression\n",
    "\n",
    "One of the simplest model of supervised learning which assumed that the dependent variable (House Price) varies linearly with the independent variable(s) (House Sales Volume, Income, etc). Essentially fitting a straight line through the data and expecting it to give us a good prediction for values we haven't seen.\n",
    "\n",
    "The idea of building a model is to minimize this error so that when we make a new prediction we can do so with utmost confidence (~95% is a good benchmark). There are multiple ways of minimizing this error, simplest being the least-squares method. In other words, calculating the sum of squares of each error (to eliminate negatives) and minimizing this number.\n",
    "\n",
    "#### Linear Regression"
   ]
  },
  {
   "cell_type": "code",
   "execution_count": 18,
   "metadata": {},
   "outputs": [],
   "source": [
    "reg = LinearRegression()"
   ]
  },
  {
   "cell_type": "code",
   "execution_count": 19,
   "metadata": {},
   "outputs": [],
   "source": [
    "# split the data 90% as train 10% as test\n",
    "x_train , x_test , y_train , y_test = train_test_split(train1 , target , test_size = 0.10,random_state =0)"
   ]
  },
  {
   "cell_type": "code",
   "execution_count": 20,
   "metadata": {},
   "outputs": [
    {
     "data": {
      "text/plain": [
       "LinearRegression(copy_X=True, fit_intercept=True, n_jobs=None,\n",
       "         normalize=False)"
      ]
     },
     "execution_count": 20,
     "metadata": {},
     "output_type": "execute_result"
    }
   ],
   "source": [
    "reg.fit(x_train,y_train)"
   ]
  },
  {
   "cell_type": "code",
   "execution_count": 21,
   "metadata": {},
   "outputs": [
    {
     "data": {
      "text/plain": [
       "0.9999999999999996"
      ]
     },
     "execution_count": 21,
     "metadata": {},
     "output_type": "execute_result"
    }
   ],
   "source": [
    "reg.score(x_test,y_test)"
   ]
  },
  {
   "cell_type": "markdown",
   "metadata": {},
   "source": [
    "As we can see from the result of the LinearRegression score (~99%) which means that its way over-fitting.\n",
    "In order to resolve this issue, we implemented a second method, GBRT while also using GridSearchCV method to tune the parameters.\n",
    "\n",
    "#### Gradient Boosting"
   ]
  },
  {
   "cell_type": "code",
   "execution_count": 22,
   "metadata": {},
   "outputs": [],
   "source": [
    "#split the data\n",
    "X_train, X_test, y_train, y_test = train_test_split(train1, target, test_size = 0.10,random_state =0)"
   ]
  },
  {
   "cell_type": "code",
   "execution_count": 23,
   "metadata": {},
   "outputs": [
    {
     "data": {
      "text/plain": [
       "GradientBoostingRegressor(alpha=0.9, criterion='friedman_mse', init=None,\n",
       "             learning_rate=0.1, loss='ls', max_depth=3, max_features=None,\n",
       "             max_leaf_nodes=None, min_impurity_decrease=0.0,\n",
       "             min_impurity_split=None, min_samples_leaf=1,\n",
       "             min_samples_split=2, min_weight_fraction_leaf=0.0,\n",
       "             n_estimators=10, n_iter_no_change=None, presort='auto',\n",
       "             random_state=None, subsample=1.0, tol=0.0001,\n",
       "             validation_fraction=0.1, verbose=0, warm_start=False)"
      ]
     },
     "execution_count": 23,
     "metadata": {},
     "output_type": "execute_result"
    }
   ],
   "source": [
    "gbrt=GradientBoostingRegressor(n_estimators=10)\n",
    "gbrt.fit(X_train, y_train)"
   ]
  },
  {
   "cell_type": "markdown",
   "metadata": {},
   "source": [
    "A simple table to show the result of feature importances based on gbrt"
   ]
  },
  {
   "cell_type": "code",
   "execution_count": 24,
   "metadata": {
    "scrolled": true
   },
   "outputs": [
    {
     "name": "stdout",
     "output_type": "stream",
     "text": [
      "salesVolume is feature 0\n",
      "indexPrice is feature 1\n",
      "rate is feature 2\n",
      "gdp is feature 3\n",
      "gdpGrowth is feature 4\n",
      "numberHousehold is feature 5\n",
      "affordability is feature 6\n",
      "medianincome is feature 7\n",
      "\n",
      "Feature ranking:\n",
      "1. feature 7 (0.487810)\n",
      "2. feature 1 (0.276482)\n",
      "3. feature 6 (0.097341)\n",
      "4. feature 5 (0.075114)\n",
      "5. feature 3 (0.032181)\n",
      "6. feature 2 (0.030677)\n",
      "7. feature 0 (0.000395)\n",
      "8. feature 4 (0.000000)\n"
     ]
    }
   ],
   "source": [
    "importances = gbrt.feature_importances_\n",
    "std = np.std([gbrt.feature_importances_ for tree in gbrt.estimators_],\n",
    "             axis=0)\n",
    "indices = np.argsort(importances)[::-1]\n",
    "# print the list of features and assigning number to each\n",
    "count = 0\n",
    "for i in list(X_train.columns.values):\n",
    "    print(\"{} is feature {}\".format(i,count))\n",
    "    count +=1\n",
    "print()\n",
    "# Print the feature ranking\n",
    "print(\"Feature ranking:\")\n",
    "for f in range(X_train.shape[1]):\n",
    "    print(\"%d. feature %d (%f)\" % (f + 1, indices[f], importances[indices[f]]))"
   ]
  },
  {
   "cell_type": "code",
   "execution_count": 25,
   "metadata": {
    "scrolled": true
   },
   "outputs": [
    {
     "name": "stdout",
     "output_type": "stream",
     "text": [
      "R-squared for Train: 0.87\n",
      "R-squared for Test: 0.79\n"
     ]
    }
   ],
   "source": [
    "print (\"R-squared for Train: %.2f\" %gbrt.score(X_train, y_train))\n",
    "print (\"R-squared for Test: %.2f\" %gbrt.score(X_test, y_test))"
   ]
  },
  {
   "cell_type": "markdown",
   "metadata": {},
   "source": [
    "Default parameters of GBRT with n_estimators=10 already shown a good score of R-squared in both Train and Test, however, we want to see if we can optimize it more using ShuffleSplit cross-validation and GridSearchCV"
   ]
  },
  {
   "cell_type": "markdown",
   "metadata": {},
   "source": [
    "- function to find the best parameter"
   ]
  },
  {
   "cell_type": "code",
   "execution_count": 26,
   "metadata": {},
   "outputs": [],
   "source": [
    "def GradientBooster(param_grid, n_jobs):\n",
    "\n",
    "    estimator = GradientBoostingRegressor()\n",
    "\n",
    "#Cross-validation using ShuffleSplit which randomly shuffles and selects Train and CV sets for each iteration.\n",
    "#There are other methods like the KFold split.\n",
    "    cv = ShuffleSplit(X_train.shape[0], test_size=0.1)\n",
    "#Using GridSearchCV to evaluate the classifier\n",
    "    classifier = GridSearchCV(estimator=estimator, cv=cv, param_grid=param_grid, n_jobs=n_jobs)\n",
    "\n",
    "#We'll now fit the training dataset to this classifier\n",
    "    classifier.fit(X_train, y_train)\n",
    "\n",
    "#print the result\n",
    "    print (\"Best Estimator learned through GridSearch\")\n",
    "    print()\n",
    "    print (classifier.best_estimator_)\n",
    "    \n",
    "    return cv, classifier.best_estimator_"
   ]
  },
  {
   "cell_type": "markdown",
   "metadata": {},
   "source": [
    "- function to plot the learning result"
   ]
  },
  {
   "cell_type": "code",
   "execution_count": 27,
   "metadata": {},
   "outputs": [
    {
     "name": "stdout",
     "output_type": "stream",
     "text": [
      "Automatically created module for IPython interactive environment\n"
     ]
    }
   ],
   "source": [
    "print(__doc__)\n",
    "\n",
    "\n",
    "def plot_learning_curve(estimator, title, X, y, ylim=None, cv=None,\n",
    "                        n_jobs=1, train_sizes=np.linspace(.1, 1.0, 5)):\n",
    "    \"\"\"\n",
    "    Generate a simple plot of the test and traning learning curve.\n",
    "\n",
    "    Parameters\n",
    "    ----------\n",
    "    estimator : object type that implements the \"fit\" and \"predict\" methods\n",
    "        An object of that type which is cloned for each validation.\n",
    "\n",
    "    title : string\n",
    "        Title for the chart.\n",
    "\n",
    "    X : array-like, shape (n_samples, n_features)\n",
    "        Training vector, where n_samples is the number of samples and\n",
    "        n_features is the number of features.\n",
    "\n",
    "    y : array-like, shape (n_samples) or (n_samples, n_features), optional\n",
    "        Target relative to X for classification or regression;\n",
    "        None for unsupervised learning.\n",
    "\n",
    "    ylim : tuple, shape (ymin, ymax), optional\n",
    "        Defines minimum and maximum yvalues plotted.\n",
    "\n",
    "    cv : integer, cross-validation generator, optional\n",
    "        If an integer is passed, it is the number of folds (defaults to 3).\n",
    "        Specific cross-validation objects can be passed, see\n",
    "        sklearn.cross_validation module for the list of possible objects\n",
    "\n",
    "    n_jobs : integer, optional\n",
    "        Number of jobs to run in parallel (default 1).\n",
    "    \"\"\"\n",
    "    plt.figure()\n",
    "    plt.title(title)\n",
    "    if ylim is not None:\n",
    "        plt.ylim(*ylim)\n",
    "    plt.xlabel(\"Training examples\")\n",
    "    plt.ylabel(\"Score\")\n",
    "    train_sizes, train_scores, test_scores = learning_curve(\n",
    "        estimator, X, y, cv=cv, n_jobs=n_jobs, train_sizes=train_sizes)\n",
    "    train_scores_mean = np.mean(train_scores, axis=1)\n",
    "    train_scores_std = np.std(train_scores, axis=1)\n",
    "    test_scores_mean = np.mean(test_scores, axis=1)\n",
    "    test_scores_std = np.std(test_scores, axis=1)\n",
    "    plt.grid()\n",
    "\n",
    "    plt.fill_between(train_sizes, train_scores_mean - train_scores_std,\n",
    "                     train_scores_mean + train_scores_std, alpha=0.1,\n",
    "                     color=\"r\")\n",
    "    plt.fill_between(train_sizes, test_scores_mean - test_scores_std,\n",
    "                     test_scores_mean + test_scores_std, alpha=0.1, color=\"g\")\n",
    "    plt.plot(train_sizes, train_scores_mean, 'o-', color=\"r\",\n",
    "             label=\"Training score\")\n",
    "    plt.plot(train_sizes, test_scores_mean, 'o-', color=\"g\",\n",
    "             label=\"Cross-validation score\")\n",
    "\n",
    "    plt.legend(loc=\"best\")\n",
    "    return plt"
   ]
  },
  {
   "cell_type": "code",
   "execution_count": 28,
   "metadata": {},
   "outputs": [
    {
     "name": "stdout",
     "output_type": "stream",
     "text": [
      "Best Estimator learned through GridSearch\n",
      "\n",
      "GradientBoostingRegressor(alpha=0.9, criterion='friedman_mse', init=None,\n",
      "             learning_rate=0.1, loss='ls', max_depth=6, max_features=1.0,\n",
      "             max_leaf_nodes=None, min_impurity_decrease=0.0,\n",
      "             min_impurity_split=None, min_samples_leaf=3,\n",
      "             min_samples_split=2, min_weight_fraction_leaf=0.0,\n",
      "             n_estimators=10, n_iter_no_change=None, presort='auto',\n",
      "             random_state=None, subsample=1.0, tol=0.0001,\n",
      "             validation_fraction=0.1, verbose=0, warm_start=False)\n"
     ]
    }
   ],
   "source": [
    "param_grid={'n_estimators':[10], \n",
    "            'learning_rate': [0.1],# 0.05, 0.02, 0.01],\n",
    "            'max_depth':[6],#4,6], \n",
    "            'min_samples_leaf':[3],#,5,9,17], \n",
    "            'max_features':[1.0],#,0.3]#,0.1]\n",
    "           }\n",
    "n_jobs=4\n",
    "\n",
    "# fit GBRT to the digits training dataset by calling the function we just created.\n",
    "cv,best_est=GradientBooster(param_grid, n_jobs)"
   ]
  },
  {
   "cell_type": "code",
   "execution_count": 29,
   "metadata": {},
   "outputs": [
    {
     "name": "stdout",
     "output_type": "stream",
     "text": [
      "Best Estimator Parameters\n",
      "---------------------------\n",
      "n_estimators: 10\n",
      "max_depth: 6\n",
      "Learning Rate: 0.1\n",
      "min_samples_leaf: 3\n",
      "max_features: 1.0\n",
      "Train R-squared: 0.87\n"
     ]
    }
   ],
   "source": [
    "#so we got back the best estimator parameters based on GridSearch as follows:\n",
    "print (\"Best Estimator Parameters\")\n",
    "print (\"---------------------------\")\n",
    "print (\"n_estimators: %d\" %best_est.n_estimators)\n",
    "print (\"max_depth: %d\" %best_est.max_depth)\n",
    "print (\"Learning Rate: %.1f\" %best_est.learning_rate)\n",
    "print (\"min_samples_leaf: %d\" %best_est.min_samples_leaf)\n",
    "print (\"max_features: %.1f\" %best_est.max_features)\n",
    "\n",
    "print (\"Train R-squared: %.2f\" %best_est.score(X_train,y_train))\n",
    "\n",
    "#We believe that each of these parameters is critical for the method to learn better.\n",
    "#We hope that some of them will help address overfitting issues as well."
   ]
  },
  {
   "cell_type": "code",
   "execution_count": 30,
   "metadata": {},
   "outputs": [
    {
     "data": {
      "image/png": "[encoded data removed]",
      "text/plain": [
       "<Figure size 432x288 with 1 Axes>"
      ]
     },
     "metadata": {
      "needs_background": "light"
     },
     "output_type": "display_data"
    }
   ],
   "source": [
    "#call the plot_learning_curve module by feeding it the estimator\n",
    "\n",
    "#The module simply runs the estimator multiple times on subsets of the data provided and plots the train and cv scores.\n",
    "#We're feeding the best parameters we've learned from GridSearchCV to the estimator now.\n",
    "#We may need to adjust the hyperparameters further if there is overfitting or underfitting\n",
    "title = \"Learning Curves (Gradient Boosted Regression Trees)\" \n",
    "estimator = GradientBoostingRegressor(n_estimators=best_est.n_estimators, max_depth=best_est.max_depth,\n",
    "                                      learning_rate=best_est.learning_rate, min_samples_leaf=best_est.min_samples_leaf,\n",
    "                                      max_features=best_est.max_features)\n",
    "plot_learning_curve(estimator, title, X_train, y_train, cv=cv, n_jobs=n_jobs)\n",
    "plt.show()"
   ]
  },
  {
   "cell_type": "code",
   "execution_count": 31,
   "metadata": {},
   "outputs": [
    {
     "name": "stdout",
     "output_type": "stream",
     "text": [
      "Train R-squared: 0.87\n",
      "Test R-squared: 0.72\n"
     ]
    }
   ],
   "source": [
    "#Re-fitting to the train set\n",
    "estimator.fit(X_train, y_train)\n",
    "\n",
    "#Calculating train/test scores - R-squared value\n",
    "print (\"Train R-squared: %.2f\" %estimator.score(X_train, y_train))\n",
    "print (\"Test R-squared: %.2f\" %estimator.score(X_test, y_test))"
   ]
  },
  {
   "cell_type": "markdown",
   "metadata": {},
   "source": [
    "Looks like we've done an okay job getting about ~0.71 R-squared on the cv set.\n",
    "However, the default result is still better.\n",
    "Therefore, from the learning curve, it seems that we may be able to do a bit better with more estimators."
   ]
  },
  {
   "cell_type": "code",
   "execution_count": 32,
   "metadata": {},
   "outputs": [
    {
     "data": {
      "image/png": "[encoded data removed]",
      "text/plain": [
       "<Figure size 432x288 with 1 Axes>"
      ]
     },
     "metadata": {
      "needs_background": "light"
     },
     "output_type": "display_data"
    }
   ],
   "source": [
    "#call the plot_learning_curve module by feeding it the estimator again but this time we bumped up the number estimators\n",
    "title = \"Learning Curves (Gradient Boosted Regression Trees)\" \n",
    "estimator = GradientBoostingRegressor(n_estimators=100, max_depth=best_est.max_depth,\n",
    "                                      learning_rate=best_est.learning_rate, min_samples_leaf=best_est.min_samples_leaf,\n",
    "                                      max_features=best_est.max_features)\n",
    "plot_learning_curve(estimator, title, X_train, y_train, cv=cv, n_jobs=n_jobs)\n",
    "plt.show()"
   ]
  },
  {
   "cell_type": "code",
   "execution_count": 33,
   "metadata": {},
   "outputs": [
    {
     "name": "stdout",
     "output_type": "stream",
     "text": [
      "Train R-squared: 1.00\n",
      "Test R-squared: 0.97\n"
     ]
    }
   ],
   "source": [
    "#Re-fitting to the train set\n",
    "estimator.fit(X_train, y_train)\n",
    "\n",
    "#Calculating train/test scores - R-squared value\n",
    "print (\"Train R-squared: %.2f\" %estimator.score(X_train, y_train))\n",
    "print (\"Test R-squared: %.2f\" %estimator.score(X_test, y_test))"
   ]
  },
  {
   "cell_type": "markdown",
   "metadata": {},
   "source": [
    "It did improve the training score but there's way more overfitting.\n",
    "This possibly could be addressed by further reducing learning rate.\n",
    "However, we might not see a major improvement unless we can obtain more samples."
   ]
  },
  {
   "cell_type": "code",
   "execution_count": 34,
   "metadata": {
    "scrolled": true
   },
   "outputs": [
    {
     "name": "stdout",
     "output_type": "stream",
     "text": [
      "Train R-squared: 0.87\n",
      "Test R-squared: 0.79\n"
     ]
    }
   ],
   "source": [
    "#Switching back to the default model\n",
    "gbrt=GradientBoostingRegressor(n_estimators=10)\n",
    "gbrt.fit(X_train, y_train)\n",
    "y_pred=gbrt.predict(X_test)\n",
    "\n",
    "#Calculating train/test scores - R-squared value\n",
    "print (\"Train R-squared: %.2f\" %gbrt.score(X_train, y_train))\n",
    "print (\"Test R-squared: %.2f\" %gbrt.score(X_test, y_test))"
   ]
  },
  {
   "cell_type": "code",
   "execution_count": 35,
   "metadata": {
    "scrolled": false
   },
   "outputs": [
    {
     "name": "stdout",
     "output_type": "stream",
     "text": [
      "Prediction Result: \n",
      "264021.7048683567\n",
      "237654.1439182278\n",
      "392462.62231642473\n",
      "\n",
      "Actual Result: \n"
     ]
    },
    {
     "data": {
      "text/plain": [
       "year\n",
       "2006    251281.1776\n",
       "2005    235329.2691\n",
       "2017    480240.1579\n",
       "Name: price, dtype: float64"
      ]
     },
     "execution_count": 35,
     "metadata": {},
     "output_type": "execute_result"
    }
   ],
   "source": [
    "print(\"Prediction Result: \")\n",
    "for i in y_pred:\n",
    "    print (i)\n",
    "\n",
    "print()\n",
    "print(\"Actual Result: \")\n",
    "y_test.head()"
   ]
  },
  {
   "cell_type": "markdown",
   "metadata": {},
   "source": [
    "### In conclusion, our final R-squared on the London house price dataset is ~0.79"
   ]
  }
 ],
 "metadata": {
  "kernelspec": {
   "display_name": "Python 3",
   "language": "python",
   "name": "python3"
  },
  "language_info": {
   "codemirror_mode": {
    "name": "ipython",
    "version": 3
   },
   "file_extension": ".py",
   "mimetype": "text/x-python",
   "name": "python",
   "nbconvert_exporter": "python",
   "pygments_lexer": "ipython3",
   "version": "3.6.8"
  }
 },
 "nbformat": 4,
 "nbformat_minor": 2
}
